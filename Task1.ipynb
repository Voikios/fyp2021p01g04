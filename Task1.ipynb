{
 "cells": [
  {
   "cell_type": "code",
   "execution_count": null,
   "metadata": {},
   "outputs": [],
   "source": [
    "#Group4_Task1.py\n",
    "#Single Variable Analysis\n",
    "#Goal is to make an analysis of accidents in Bradford relative to age groups, time, and ???\n",
    "\n",
    "import collections\n",
    "\n",
    "def age_analysis():\n",
    "    #Bradford Casualties2019 file\n",
    "    file = open(\"data/Bradford/Bradford - Casualties2019.csv\", \"r\")\n",
    "    file = file.read()\n",
    "    #split file into a list of strings\n",
    "    file_strings = file.split(\"\\n\")[:-1]\n",
    "    #split each string in the list into another level of lists\n",
    "    file_list = []\n",
    "    for line in file_strings[1:]:\n",
    "        file_list.append(line.split(\",\"))\n",
    "    \n",
    "    #create list of the age band for each accident\n",
    "    age_groups = [line[6] for line in file_list]\n",
    "    #create frequency dictionary for each age band in the list\n",
    "    frequency = collections.Counter(age_groups)\n",
    "    print(frequency)\n",
    "\n",
    "\n",
    "def time_analysis():\n",
    "    #Bradford Accidents2019 file\n",
    "    file = open(\"data/Bradford/Bradford - Accidents2019.csv\", \"r\")\n",
    "    file = file.read()\n",
    "    #split file into a list of strings\n",
    "    file_strings = file.split(\"\\n\")[:-1]\n",
    "    #split each string in the list into another level of lists\n",
    "    file_list = []\n",
    "    for line in file_strings[1:]:\n",
    "        file_list.append(line.split(\",\"))\n",
    "    \n",
    "    #create list of the day of the week for each accident\n",
    "    day_of_week = [line[10] for line in file_list]\n",
    "    #create frequency dictionary for each day of the week in the list\n",
    "    frequency = collections.Counter(day_of_week)\n",
    "    print(frequency)\n",
    "\n",
    "\n",
    "def main():\n",
    "    age_analysis()\n",
    "    time_analysis()\n",
    "\n",
    "\n",
    "if __name__ == \"__main__\":\n",
    "    main()"
   ]
  }
 ],
 "metadata": {
  "kernelspec": {
   "display_name": "Python 3",
   "language": "python",
   "name": "python3"
  },
  "language_info": {
   "codemirror_mode": {
    "name": "ipython",
    "version": 3
   },
   "file_extension": ".py",
   "mimetype": "text/x-python",
   "name": "python",
   "nbconvert_exporter": "python",
   "pygments_lexer": "ipython3",
   "version": "3.7.3"
  }
 },
 "nbformat": 4,
 "nbformat_minor": 4
}
